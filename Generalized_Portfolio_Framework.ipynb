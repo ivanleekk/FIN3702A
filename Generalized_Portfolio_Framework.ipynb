{
  "nbformat": 4,
  "nbformat_minor": 0,
  "metadata": {
    "colab": {
      "provenance": [],
      "include_colab_link": true
    },
    "kernelspec": {
      "name": "python3",
      "display_name": "Python 3"
    },
    "language_info": {
      "name": "python"
    }
  },
  "cells": [
    {
      "cell_type": "markdown",
      "metadata": {
        "id": "view-in-github",
        "colab_type": "text"
      },
      "source": [
        "<a href=\"https://colab.research.google.com/github/ivanleekk/FIN3702A/blob/main/Generalized_Portfolio_Framework.ipynb\" target=\"_parent\"><img src=\"https://colab.research.google.com/assets/colab-badge.svg\" alt=\"Open In Colab\"/></a>"
      ]
    },
    {
      "cell_type": "code",
      "execution_count": null,
      "metadata": {
        "id": "-RB24VAuV5TS"
      },
      "outputs": [],
      "source": [
        "# Load packages.\n",
        "import pandas as pd\n",
        "import numpy as np\n",
        "import matplotlib\n",
        "import matplotlib.pyplot as plt\n",
        "import matplotlib.ticker as mtick\n",
        "import seaborn as sns\n",
        "from datetime import datetime as dt\n",
        "from datetime import timedelta\n",
        "import yfinance as yf\n",
        "import statsmodels.formula.api as sm\n",
        "from statsmodels.iolib.summary2 import summary_col\n",
        "from IPython.display import display, Latex"
      ]
    },
    {
      "cell_type": "markdown",
      "source": [
        "$$\n",
        "\\begin{pmatrix}\n",
        "  r \\\\\n",
        "  \\sigma\n",
        "\\end{pmatrix}\n",
        "=\\begin{pmatrix}\n",
        "  0.24 & 0.14 & 0.08\\\\\n",
        "  0.33 & 0.22 & 0\n",
        "\\end{pmatrix} \\quad \\quad \\quad\n",
        "I = \\begin{pmatrix}\n",
        "  \\$4,000 \\\\ \\$5,000 \\\\ \\$1,000\n",
        "\\end{pmatrix} \\quad \\quad \\quad \\rho_{12}=0.14$$\n",
        "\n",
        "$\\rho_{12}$ and the $\\sigma$ collectively implicitly tell us what the covariance matrix looks like."
      ],
      "metadata": {
        "id": "lSlRIRnqYNcj"
      }
    },
    {
      "cell_type": "code",
      "source": [
        "# Asset returns\n",
        "r = np.array([0.24, 0.14, 0.08])\n",
        "# Correlation\n",
        "rho12 = 0.14\n",
        "# Covariance matrix\n",
        "cov = np.array([\n",
        "    [0.33**2, 0.33*0.22*rho12, 0],\n",
        "    [0.33*0.22*rho12, 0.22**2, 0],\n",
        "    [0, 0, 0]\n",
        "      ])\n",
        "\n",
        "I = [4000, 5000, 1000]\n",
        "w = np.array([i/sum(I) for i in I])\n",
        "\n",
        "Rp = sum(w * r)\n",
        "Varp = np.dot(w, np.dot(w, cov))\n",
        "SDp = np.sqrt(Varp)\n",
        "\n",
        "print(\"Portfolio return is %0.2f%%.\" %(Rp*100))\n",
        "print(\"Portfolio standard deviation is is %0.2f%%.\" %(SDp*100))"
      ],
      "metadata": {
        "colab": {
          "base_uri": "https://localhost:8080/"
        },
        "id": "aTThg4v3V9zc",
        "outputId": "71868acc-8891-4a6a-c5f1-b0e9fdecbe99"
      },
      "execution_count": null,
      "outputs": [
        {
          "output_type": "stream",
          "name": "stdout",
          "text": [
            "Portfolio return is 17.40%.\n",
            "Portfolio standard deviation is is 18.33%.\n"
          ]
        }
      ]
    }
  ]
}