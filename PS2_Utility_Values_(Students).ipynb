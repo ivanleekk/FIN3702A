{
  "nbformat": 4,
  "nbformat_minor": 0,
  "metadata": {
    "colab": {
      "provenance": [],
      "include_colab_link": true
    },
    "kernelspec": {
      "name": "python3",
      "display_name": "Python 3"
    },
    "language_info": {
      "name": "python"
    }
  },
  "cells": [
    {
      "cell_type": "markdown",
      "metadata": {
        "id": "view-in-github",
        "colab_type": "text"
      },
      "source": [
        "<a href=\"https://colab.research.google.com/github/ivanleekk/FIN3702A/blob/main/PS2_Utility_Values_(Students).ipynb\" target=\"_parent\"><img src=\"https://colab.research.google.com/assets/colab-badge.svg\" alt=\"Open In Colab\"/></a>"
      ]
    },
    {
      "cell_type": "code",
      "execution_count": null,
      "metadata": {
        "id": "6k0_hxwcim7U"
      },
      "outputs": [],
      "source": [
        "import pandas as pd\n",
        "import numpy as np\n",
        "import matplotlib.pyplot as plt\n",
        "import matplotlib.ticker as mtick\n",
        "import matplotlib.ticker as ticker\n",
        "import seaborn as sns\n",
        "import scipy.optimize as optimize\n",
        "import yfinance as yf\n",
        "from datetime import datetime as dt"
      ]
    },
    {
      "cell_type": "markdown",
      "source": [
        "### Download Yahoo Finance return data based on tickers."
      ],
      "metadata": {
        "id": "CbVwobA0m-Dz"
      }
    },
    {
      "cell_type": "code",
      "source": [
        "tickers = [\"AVGO\",\"HD\",\"JPM\",\"LLY\",\"MSFT\",\"UNH\",\"V\",\"WMT\",\"XOM\"] # Ticker list.\n",
        "\n",
        "# Start date.\n",
        "start   = dt(2010, 1, 1)\n",
        "# End date.\n",
        "end     = dt(2023, 1, 1)\n",
        "\n",
        "# Download monthly price data.\n",
        "prices  = yf.download(\" \".join(tickers),start,end,interval=\"1mo\")[\"Adj Close\"]\n",
        "# Convert prices to returns.\n",
        "df   = prices.pct_change()[1:]\n",
        "\n",
        "# Annualized risk-free rate.\n",
        "rf = \"\"\" Annualized risk-free rate \"\"\"\n",
        "\n",
        "# Annualized excess return vector.\n",
        "re = \"\"\" numpy array of annualized returns minus the risk-free rate \"\"\"\n",
        "\n",
        "# Annualized covariance matrix.\n",
        "cov = \"\"\" Annualized covariance matrix of the returns dataframe \"\"\"\n",
        "\n",
        "# Inverse of the covariance matrix.\n",
        "icov = \"\"\" Inverse of the covariance matrix \"\"\"\n",
        "\n",
        "# Unit vector.\n",
        "e = np.ones(len(re))"
      ],
      "metadata": {
        "id": "7vh8xqS4j4A8"
      },
      "execution_count": null,
      "outputs": []
    },
    {
      "cell_type": "markdown",
      "source": [
        "### Implement the Two Fund Separation Theorem to find the optimal portfolio properties."
      ],
      "metadata": {
        "id": "BQoUk4S7s3Ln"
      }
    },
    {
      "cell_type": "code",
      "source": [
        "# Two Fund Separation.\n",
        "A = \"\"\" A from the Two Fund Separation Theorem \"\"\"\n",
        "B = \"\"\" B from the Two Fund Separation Theorem \"\"\"\n",
        "C = \"\"\" C from the Two Fund Separation Theorem \"\"\"\n",
        "D = \"\"\" D from the Two Fund Separation Theorem \"\"\"\n",
        "\n",
        "# Expected excess return of the tangency portfolio.\n",
        "r_te  = \"\"\" Expected excess return of the tangent portfolio from the Two Fund Separation Theorem \"\"\"\n",
        "\n",
        "# Standard deviation of the tangency portfolio.\n",
        "sd_t = \"\"\" Standard deviation of the tangent portfolio from the Two Fund Separation Theorem \"\"\""
      ],
      "metadata": {
        "id": "qjQ8oSmps7Zy"
      },
      "execution_count": null,
      "outputs": []
    }
  ]
}