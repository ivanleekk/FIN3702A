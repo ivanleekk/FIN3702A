{
  "nbformat": 4,
  "nbformat_minor": 0,
  "metadata": {
    "colab": {
      "provenance": [],
      "include_colab_link": true
    },
    "kernelspec": {
      "name": "python3",
      "display_name": "Python 3"
    },
    "language_info": {
      "name": "python"
    }
  },
  "cells": [
    {
      "cell_type": "markdown",
      "metadata": {
        "id": "view-in-github",
        "colab_type": "text"
      },
      "source": [
        "<a href=\"https://colab.research.google.com/github/ivanleekk/FIN3702A/blob/main/DWR_and_TWR.ipynb\" target=\"_parent\"><img src=\"https://colab.research.google.com/assets/colab-badge.svg\" alt=\"Open In Colab\"/></a>"
      ]
    },
    {
      "cell_type": "code",
      "execution_count": null,
      "metadata": {
        "id": "lB1kRmYPyXTk"
      },
      "outputs": [],
      "source": [
        "#Load packages.\n",
        "import pandas as pd\n",
        "import numpy as np\n",
        "import matplotlib.pyplot as plt\n",
        "import seaborn as sns\n",
        "import matplotlib.ticker as mtick\n",
        "from scipy.optimize import fsolve\n",
        "from statistics import geometric_mean"
      ]
    },
    {
      "cell_type": "code",
      "source": [
        "# Invest in a fund in the following way.\n",
        "fund = pd.DataFrame([2018,2019,2020,2021,2022], columns=[\"Year\"])\n",
        "fund[\"Return\"] = [-5,-15.2,3.10,30.75,17.65]\n",
        "fund[\"Contribution\"] = [5000,10000,15000,20000,25000]\n",
        "\n",
        "# Investment grows to:\n",
        "amounts=[]\n",
        "for i in range(0,len(fund)):\n",
        "  amounts.append(fund.Contribution[i] * np.prod((1+fund.Return[i:]/100)))\n",
        "\n",
        "print(\"The investment grows to $%s.\\n\" %f'{sum(amounts):,.2f}')\n",
        "\n",
        "# DWR\n",
        "def fun(r):\n",
        "    return 5000 + 10000/(1+r)**1 + 15000/(1+r)**2 + 20000/(1+r)**3 + 25000/(1+r)**4 - sum(amounts)/(1+r)**5\n",
        "dwr = fsolve(fun, 0)[0]\n",
        "print(\"The dollar-weighted rate of return is %.2f%%.\" %(dwr*100))\n",
        "\n",
        "# TWR\n",
        "twr = np.prod(1+fund.Return/100) ** (1/len(fund)) - 1\n",
        "print(\"The time-weighted rate of return is %.2f%%.\" %(twr*100))"
      ],
      "metadata": {
        "id": "Ig5uDAdVyaFo",
        "outputId": "9237cb5a-dca4-4791-a12d-06d47c5a9dfb",
        "colab": {
          "base_uri": "https://localhost:8080/"
        }
      },
      "execution_count": null,
      "outputs": [
        {
          "output_type": "stream",
          "name": "stdout",
          "text": [
            "The investment grows to $103,804.57.\n",
            "\n",
            "The dollar-weighted rate of return is 14.25%.\n",
            "The time-weighted rate of return is 5.02%.\n"
          ]
        }
      ]
    },
    {
      "cell_type": "markdown",
      "source": [
        "Since time-weighted averages are also the geometric means, we can do the following as an alternative."
      ],
      "metadata": {
        "id": "V0uCYJxKw92X"
      }
    },
    {
      "cell_type": "code",
      "source": [
        "from statistics import geometric_mean\n",
        "geo_mean = geometric_mean(1+fund.Return/100) - 1\n",
        "\n",
        "print(\"The time-weighted rate of return is %.2f%%.\" %(geo_mean*100))"
      ],
      "metadata": {
        "colab": {
          "base_uri": "https://localhost:8080/"
        },
        "id": "IZ_4yLO4wt17",
        "outputId": "895c5435-7772-4f15-bbf6-6f716e235f74"
      },
      "execution_count": null,
      "outputs": [
        {
          "output_type": "stream",
          "name": "stdout",
          "text": [
            "The time-weighted rate of return is 5.02%.\n"
          ]
        }
      ]
    }
  ]
}